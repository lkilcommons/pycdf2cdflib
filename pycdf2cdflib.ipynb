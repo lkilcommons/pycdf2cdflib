{
 "cells": [
  {
   "cell_type": "markdown",
   "metadata": {},
   "source": [
    "# NASA Common Data Format (CDF) Access Methods in Python\n",
    "\n",
    "Reading NASA Common Data Format files is an essential part of the research workflow of many graduate students and researchers in space-related disciplines. Python is increasingly popular for data analysis in these fields, but there is no official CDF access software for Python. \n",
    "\n",
    "### Existing Tools\n",
    "\n",
    "Several unofficial packages have been developed:\n",
    "\n",
    "* [pycdf](https://spacepy.github.io/pycdf.html) - requires manual download, compile and install NASA CDF C library\n",
    "* [pysatCDF](https://github.com/pysat/pysatCDF) - bundles NASA CDF C library code, compiles it as part of Python installation\n",
    "* [cdflib](https://github.com/MAVENSDC/cdflib) - do not need NASA CDF C library\n",
    "\n",
    "\n",
    "### CDFlib\n",
    "\n",
    "CDFlib is a particularly interesting package because it does not require the NASA CDF C library. This significantly reduces the barrier for researchers (including many student researchers) who have not had training in compiled programming languages or otherwise may not be comfortable compiling C source code.\n",
    "\n",
    "### What is this document\n",
    "\n",
    "This document is my notes and possibly a tutorial on transitioning from pycdf to cdflib. I have used pycdf interface for a long time and trained about a dozen students with it. My open source libraries also depend on the pycdf interface. I want to learn cdflib well enough to teach it to students so they need less of my help installing things on their computers, and I want to transition my open source libraries to cdflib so that it is easier to install them as well ( e.g. for automated testing via [TravisCI](https://travis-ci.org/) )\n",
    "\n",
    "### Example research task\n",
    "\n",
    "To show an example of using pycdf vs. cdflib, I will use both tools to extract the disturbance storm time index (DST, an measure of the overall geomagnetic activity in the earth's polar regions) for a moderate geomagnetic storm (May 29-30, 2010)"
   ]
  },
  {
   "cell_type": "markdown",
   "metadata": {},
   "source": [
    "# Imports and Global Settings"
   ]
  },
  {
   "cell_type": "code",
   "execution_count": 26,
   "metadata": {},
   "outputs": [],
   "source": [
    "import os,tempfile,datetime\n",
    "from collections import OrderedDict\n",
    "import requests\n",
    "import numpy as np\n",
    "import matplotlib.pyplot as plt\n",
    "from spacepy import pycdf\n",
    "import cdflib\n",
    "\n",
    "dt = datetime.datetime(2010,5,29)"
   ]
  },
  {
   "cell_type": "markdown",
   "metadata": {},
   "source": [
    "# Download a CDF file (so we have something to work with)"
   ]
  },
  {
   "cell_type": "code",
   "execution_count": 9,
   "metadata": {},
   "outputs": [
    {
     "name": "stdout",
     "output_type": "stream",
     "text": [
      "Downloaded CDF file https://spdf.gsfc.nasa.gov/pub/data/omni/omni_cdaweb/hourly/2010/omni2_h0_mrg1hr_20100101_v01.cdf to /tmp/pycdf2cdflib/omni2_h0_mrg1hr_20100101_v01.cdf\n"
     ]
    }
   ],
   "source": [
    "# We'll access NASA OMNIWeb like we would in a web browser (through HTTPS)\n",
    "# here we construct the URL which points to the data file\n",
    "base_url = 'https://spdf.gsfc.nasa.gov/pub/data'\n",
    "\n",
    "#Some helper functions which create the directory path given a particular\n",
    "#python datetime\n",
    "def omni_hourly_subdir(dt):\n",
    "    return 'omni/omni_cdaweb/hourly/{}'.format(dt.year)\n",
    "def omni_hourly_cdffn(dt): \n",
    "    return 'omni2_h0_mrg1hr_{}{:02d}01_v01.cdf'.format(dt.year,(1 if dt.month < 7 else 7))\n",
    "\n",
    "#Put together the full URL\n",
    "cdffn = omni_hourly_cdffn(dt)\n",
    "cdfsubdir = omni_hourly_subdir(dt)\n",
    "url = base_url+'/'+cdfsubdir+'/'+cdffn\n",
    "\n",
    "#Use the requests library to access the URL via an HTTP GET request\n",
    "response = requests.get(url)\n",
    "\n",
    "#Create a temporary directory where the data will be saved (on Linux this is in /tmp)\n",
    "local_cdfdir = os.path.join(tempfile.gettempdir(),'pycdf2cdflib')\n",
    "if not os.path.exists(local_cdfdir):\n",
    "    os.makedirs(local_cdfdir)\n",
    "local_cdffn = os.path.join(local_cdfdir,cdffn)\n",
    "\n",
    "#Write the data from HTTP response to the local file\n",
    "with open(local_cdffn,'wb') as f:\n",
    "    f.write(response.content)\n",
    "    \n",
    "print('Downloaded CDF file {} to {}'.format(url,local_cdffn))\n"
   ]
  },
  {
   "cell_type": "markdown",
   "metadata": {},
   "source": [
    "\n",
    "# Extract Data with PyCDF "
   ]
  },
  {
   "cell_type": "code",
   "execution_count": 14,
   "metadata": {},
   "outputs": [],
   "source": [
    "def pycdf_extract_var(cdf_filename,varname):\n",
    "    \"\"\"Extract a variable, the associated times, and the variable's\n",
    "    metadata from a CDF using pycdf\"\"\"\n",
    "    with pycdf.CDF(cdf_filename) as cdf:\n",
    "        dtimes = cdf['Epoch'][:]\n",
    "        data = cdf[varname][:]\n",
    "        #Extract the metadata and store in a dictionary\n",
    "        metadata = {}\n",
    "        metadata['description'] = cdf[varname].attrs['CATDESC']\n",
    "        metadata['units'] = cdf[varname].attrs['UNITS']\n",
    "    return dtimes,data,metadata\n",
    "\n",
    "pycdf_t,pycdf_dst,pycdf_meta = pycdf_extract_var(local_cdffn,'DST')"
   ]
  },
  {
   "cell_type": "markdown",
   "metadata": {},
   "source": [
    "# Extract Data with CDFlib"
   ]
  },
  {
   "cell_type": "code",
   "execution_count": 22,
   "metadata": {},
   "outputs": [],
   "source": [
    "def cdflib_extract_vardata(cdf_filename,varname):\n",
    "    \"\"\"Extract a variable, the associated times, and the variable's metadata\n",
    "    from a CDF using cdflib\"\"\"\n",
    "    cdf = cdflib.CDF(cdf_filename)\n",
    "    #Extact the numerical representation of the\n",
    "    #time\n",
    "    cdftime = cdf.varget('Epoch')\n",
    "    \n",
    "    #The Epoch variable data can either be a numpy\n",
    "    #float array (if the CDF epoch type is CDF_EPOCH)\n",
    "    #or a numpy complex array (if the CDF epoch type is CDF_EPOCH_16)\n",
    "    epoch_info = cdf.varinq('Epoch')\n",
    "    epoch_type = epoch_info['Data_Type_Description']\n",
    "    if epoch_type!='CDF_EPOCH':\n",
    "        print('Epoch type is {}'.format(epoch_type))\n",
    "        \n",
    "    #cdflib.cdfepoch is another name for cdflib.epochs.CDFEpoch\n",
    "    #which is a container class\n",
    "    \n",
    "    #The to_datetime method converts an epoch's numerical representation\n",
    "    #to a Python datetime\n",
    "    dtimes = cdflib.cdfepoch().to_datetime(cdftime,to_np=True)\n",
    "    \n",
    "    #the to_np switch toggles whether a list (False) or numpy array (True)\n",
    "    #of datetimes is returned. I return an array since that\n",
    "    #is what pycdf does.\n",
    "    data = cdf.varget(varname)\n",
    "    #Extract the metadata and store in a dictionary\n",
    "    metadata = {}\n",
    "    metadata['description'] = cdf.attget('CATDESC',varname)\n",
    "    metadata['units'] = cdf.attget('UNITS',varname)\n",
    "    return dtimes,data,metadata\n",
    "\n",
    "cdflib_t,cdflib_dst,cdflib_meta = cdflib_extract_vardata(local_cdffn,'DST')\n"
   ]
  },
  {
   "cell_type": "code",
   "execution_count": 32,
   "metadata": {},
   "outputs": [
    {
     "data": {
      "image/png": "[encoded data removed]",
      "text/plain": [
       "<Figure size 576x288 with 2 Axes>"
      ]
     },
     "metadata": {
      "needs_background": "light"
     },
     "output_type": "display_data"
    }
   ],
   "source": [
    "#Graphically verify that nothing majorly different is happening\n",
    "f = plt.figure(figsize=(8,4))\n",
    "ax1 = f.add_subplot(211)\n",
    "ax2 = f.add_subplot(212)\n",
    "\n",
    "startdt,enddt = datetime.datetime(2010,5,29,0),datetime.datetime(2010,6,1,0)\n",
    "cdflib_mask = np.logical_and(cdflib_t>startdt,cdflib_t<enddt)\n",
    "pycdf_mask = np.logical_and(pycdf_t>startdt,pycdf_t<enddt)\n",
    "ax1.plot(cdflib_t[cdflib_mask],cdflib_dst[cdflib_mask],'b-')\n",
    "ax1.set_ylabel('CDFlib DST')\n",
    "ax2.plot(pycdf_t[pycdf_mask],pycdf_dst[pycdf_mask],'r-')\n",
    "ax2.set_ylabel('PyCDF DST')\n",
    "\n",
    "for ax in [ax1,ax2]:\n",
    "    ax.grid(True)\n"
   ]
  }
 ],
 "metadata": {
  "kernelspec": {
   "display_name": "Python 3",
   "language": "python",
   "name": "python3"
  },
  "language_info": {
   "codemirror_mode": {
    "name": "ipython",
    "version": 3
   },
   "file_extension": ".py",
   "mimetype": "text/x-python",
   "name": "python",
   "nbconvert_exporter": "python",
   "pygments_lexer": "ipython3",
   "version": "3.7.4"
  }
 },
 "nbformat": 4,
 "nbformat_minor": 2
}
